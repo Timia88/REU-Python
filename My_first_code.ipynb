{
 "metadata": {
  "language_info": {
   "codemirror_mode": {
    "name": "ipython",
    "version": 3
   },
   "file_extension": ".py",
   "mimetype": "text/x-python",
   "name": "python",
   "nbconvert_exporter": "python",
   "pygments_lexer": "ipython3",
   "version": 3
  },
  "orig_nbformat": 2
 },
 "nbformat": 4,
 "nbformat_minor": 2,
 "cells": [
  {
   "cell_type": "code",
   "execution_count": null,
   "metadata": {},
   "outputs": [],
   "source": [
    "# Integers\n",
    "x = 1\n",
    "print(x)\n",
    "print(type(x))\n",
    "x = 1000000000000000000000000000000000000000000000000000000000000000000000000001\n",
    "print(x)\n",
    "print(type(x))\n"
   ]
  },
  {
   "cell_type": "code",
   "execution_count": null,
   "metadata": {},
   "outputs": [],
   "source": []
  },
  {
   "cell_type": "code",
   "execution_count": null,
   "metadata": {},
   "outputs": [],
   "source": [
    "age = int(input('Plase enter your age: '))\n",
    "print(age)\n",
    "print(type(age))\n",
    "\n"
   ]
  },
  {
   "source": [],
   "cell_type": "markdown",
   "metadata": {}
  },
  {
   "cell_type": "code",
   "execution_count": null,
   "metadata": {},
   "outputs": [],
   "source": [
    "# Floating Points \n",
    "exchange_rate = 1.83\n",
    "print(exchange_rate)\n",
    "print(type(exchange_rate))\n"
   ]
  },
  {
   "cell_type": "code",
   "execution_count": null,
   "metadata": {},
   "outputs": [],
   "source": [
    "# Converting to Floats\n",
    "int_value = 1\n",
    "string_value = '1.5'\n",
    "float_value = float(int_value)\n",
    "print('int value as a float:', float_value)\n",
    "print(type(float_value))\n",
    "float_value = float(string_value)\n",
    "print('string value as a float:', float_value)\n",
    "print(type(float_value))\n"
   ]
  },
  {
   "cell_type": "code",
   "execution_count": null,
   "metadata": {},
   "outputs": [],
   "source": [
    "# Converting an Input String into a Floating Point Number\n",
    "exchange_rate = float(input('Please enter the exchange rate to use:'))\n",
    "print(exchange_rate)\n",
    "print(type(exchange_rate))\n"
   ]
  },
  {
   "cell_type": "code",
   "execution_count": null,
   "metadata": {},
   "outputs": [],
   "source": [
    "# Boolean value\n",
    "all_ok = True\n",
    "print(all_ok)\n",
    "all_ok = False\n",
    "print(all_ok)\n",
    "print(type(all_ok))\n"
   ]
  },
  {
   "cell_type": "code",
   "execution_count": null,
   "metadata": {},
   "outputs": [],
   "source": [
    "# Convert string into Boolean\n",
    "status = bool(input('Ok to proceed:'))\n",
    "print(status)\n",
    "print(type(status))\n",
    "\n"
   ]
  }
 ]
}